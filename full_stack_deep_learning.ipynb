{
  "nbformat": 4,
  "nbformat_minor": 0,
  "metadata": {
    "colab": {
      "name": "full-stack-deep-learning.ipynb",
      "provenance": [],
      "authorship_tag": "ABX9TyNOL84OqSUmZhdKlCyuhCOf",
      "include_colab_link": true
    },
    "kernelspec": {
      "name": "python3",
      "display_name": "Python 3"
    },
    "language_info": {
      "name": "python"
    },
    "accelerator": "GPU"
  },
  "cells": [
    {
      "cell_type": "markdown",
      "metadata": {
        "id": "view-in-github",
        "colab_type": "text"
      },
      "source": [
        "<a href=\"https://colab.research.google.com/github/CharlesDell/full-stack-deep-learning/blob/main/full_stack_deep_learning.ipynb\" target=\"_parent\"><img src=\"https://colab.research.google.com/assets/colab-badge.svg\" alt=\"Open In Colab\"/></a>"
      ]
    },
    {
      "cell_type": "code",
      "metadata": {
        "colab": {
          "base_uri": "https://localhost:8080/"
        },
        "id": "mC8G7PANTloE",
        "outputId": "8a2a5b57-3a4e-48a7-8bab-ea3b007ae51e"
      },
      "source": [
        "!nvidia-smi"
      ],
      "execution_count": 1,
      "outputs": [
        {
          "output_type": "stream",
          "text": [
            "Mon May 31 21:23:16 2021       \n",
            "+-----------------------------------------------------------------------------+\n",
            "| NVIDIA-SMI 465.19.01    Driver Version: 460.32.03    CUDA Version: 11.2     |\n",
            "|-------------------------------+----------------------+----------------------+\n",
            "| GPU  Name        Persistence-M| Bus-Id        Disp.A | Volatile Uncorr. ECC |\n",
            "| Fan  Temp  Perf  Pwr:Usage/Cap|         Memory-Usage | GPU-Util  Compute M. |\n",
            "|                               |                      |               MIG M. |\n",
            "|===============================+======================+======================|\n",
            "|   0  Tesla T4            Off  | 00000000:00:04.0 Off |                    0 |\n",
            "| N/A   48C    P8    10W /  70W |      0MiB / 15109MiB |      0%      Default |\n",
            "|                               |                      |                  N/A |\n",
            "+-------------------------------+----------------------+----------------------+\n",
            "                                                                               \n",
            "+-----------------------------------------------------------------------------+\n",
            "| Processes:                                                                  |\n",
            "|  GPU   GI   CI        PID   Type   Process name                  GPU Memory |\n",
            "|        ID   ID                                                   Usage      |\n",
            "|=============================================================================|\n",
            "|  No running processes found                                                 |\n",
            "+-----------------------------------------------------------------------------+\n"
          ],
          "name": "stdout"
        }
      ]
    },
    {
      "cell_type": "code",
      "metadata": {
        "colab": {
          "base_uri": "https://localhost:8080/"
        },
        "id": "UMCkatW4WDIQ",
        "outputId": "ca0b9260-2b08-4ebb-9fb8-3be4c18c4863"
      },
      "source": [
        "%ls"
      ],
      "execution_count": 13,
      "outputs": [
        {
          "output_type": "stream",
          "text": [
            "readme.md  \u001b[0m\u001b[01;34mtext_recognizer\u001b[0m/  \u001b[01;34mtraining\u001b[0m/\n"
          ],
          "name": "stdout"
        }
      ]
    },
    {
      "cell_type": "code",
      "metadata": {
        "colab": {
          "base_uri": "https://localhost:8080/"
        },
        "id": "pSm3hkcEXP4G",
        "outputId": "0c2009aa-e755-42a9-db1b-7b611f572795"
      },
      "source": [
        "!python3 training/run_experiment.py --model_class=MLP --data_class=MNIST --max_epochs=5 --gpus=1"
      ],
      "execution_count": 19,
      "outputs": [
        {
          "output_type": "stream",
          "text": [
            "/usr/local/lib/python3.7/dist-packages/pytorch_lightning/utilities/distributed.py:49: UserWarning: You have set progress_bar_refresh_rate < 20 on Google Colab. This may crash. Consider using progress_bar_refresh_rate >= 20 in Trainer.\n",
            "  warnings.warn(*args, **kwargs)\n",
            "GPU available: True, used: True\n",
            "TPU available: None, using: 0 TPU cores\n",
            "LOCAL_RANK: 0 - CUDA_VISIBLE_DEVICES: [0]\n",
            "Downloading http://yann.lecun.com/exdb/mnist/train-images-idx3-ubyte.gz to /content/fsdl-text-recognizer-2021-labs/data/downloaded/MNIST/raw/train-images-idx3-ubyte.gz\n",
            "100% 9912320/9912422 [01:14<00:00, 253965.44it/s]Extracting /content/fsdl-text-recognizer-2021-labs/data/downloaded/MNIST/raw/train-images-idx3-ubyte.gz to /content/fsdl-text-recognizer-2021-labs/data/downloaded/MNIST/raw\n",
            "Downloading http://yann.lecun.com/exdb/mnist/train-labels-idx1-ubyte.gz to /content/fsdl-text-recognizer-2021-labs/data/downloaded/MNIST/raw/train-labels-idx1-ubyte.gz\n",
            "\n",
            "0it [00:00, ?it/s]\u001b[A\n",
            "32768it [00:00, 122505.97it/s]\n",
            "Extracting /content/fsdl-text-recognizer-2021-labs/data/downloaded/MNIST/raw/train-labels-idx1-ubyte.gz to /content/fsdl-text-recognizer-2021-labs/data/downloaded/MNIST/raw\n",
            "Downloading http://yann.lecun.com/exdb/mnist/t10k-images-idx3-ubyte.gz to /content/fsdl-text-recognizer-2021-labs/data/downloaded/MNIST/raw/t10k-images-idx3-ubyte.gz\n",
            "\n",
            "0it [00:00, ?it/s]\u001b[A\n",
            "  0% 0/1648877 [00:00<?, ?it/s]\u001b[A\n",
            "  2% 40960/1648877 [00:00<00:04, 328827.76it/s]\u001b[A\n",
            "  4% 73728/1648877 [00:00<00:04, 317273.46it/s]\u001b[A\n",
            "  6% 106496/1648877 [00:00<00:05, 295741.41it/s]\u001b[A\n",
            "  8% 139264/1648877 [00:00<00:05, 281974.74it/s]\u001b[A\n",
            " 10% 172032/1648877 [00:00<00:05, 270857.63it/s]\u001b[A\n",
            " 12% 204800/1648877 [00:00<00:05, 265418.31it/s]\u001b[A\n",
            " 14% 237568/1648877 [00:01<00:05, 262784.05it/s]\u001b[A\n",
            " 16% 270336/1648877 [00:01<00:05, 260674.58it/s]\u001b[A\n",
            " 18% 303104/1648877 [00:01<00:05, 257857.90it/s]\u001b[A\n",
            " 20% 335872/1648877 [00:01<00:05, 258561.06it/s]\u001b[A\n",
            " 22% 368640/1648877 [00:01<00:04, 257306.53it/s]\u001b[A\n",
            " 24% 401408/1648877 [00:01<00:04, 254845.48it/s]\u001b[A\n",
            " 26% 434176/1648877 [00:01<00:04, 255826.72it/s]\u001b[A\n",
            " 28% 466944/1648877 [00:02<00:04, 254373.10it/s]\u001b[A\n",
            " 30% 499712/1648877 [00:02<00:04, 254284.66it/s]\u001b[A\n",
            " 32% 532480/1648877 [00:02<00:04, 252321.91it/s]\u001b[A\n",
            " 34% 565248/1648877 [00:02<00:04, 255690.01it/s]\u001b[A\n",
            " 36% 598016/1648877 [00:02<00:04, 254558.65it/s]\u001b[A\n",
            " 38% 630784/1648877 [00:02<00:04, 253264.78it/s]\u001b[A\n",
            " 40% 663552/1648877 [00:02<00:03, 255657.42it/s]\u001b[A\n",
            " 42% 696320/1648877 [00:02<00:03, 253220.87it/s]\u001b[A\n",
            " 44% 729088/1648877 [00:03<00:03, 253548.55it/s]\u001b[A\n",
            " 46% 761856/1648877 [00:03<00:03, 255378.11it/s]\u001b[A\n",
            " 48% 794624/1648877 [00:03<00:03, 255099.44it/s]\u001b[A\n",
            " 50% 827392/1648877 [00:03<00:03, 253026.38it/s]\u001b[A\n",
            " 52% 860160/1648877 [00:03<00:03, 254656.11it/s]\u001b[A\n",
            " 54% 892928/1648877 [00:03<00:02, 255121.13it/s]\u001b[A\n",
            " 56% 925696/1648877 [00:03<00:02, 253471.68it/s]\u001b[A\n",
            " 58% 958464/1648877 [00:03<00:02, 254759.57it/s]\u001b[A\n",
            " 60% 991232/1648877 [00:04<00:02, 251664.21it/s]\u001b[A\n",
            " 62% 1024000/1648877 [00:04<00:02, 254560.16it/s]\u001b[A\n",
            " 64% 1056768/1648877 [00:04<00:02, 255156.41it/s]\u001b[A\n",
            " 66% 1089536/1648877 [00:04<00:02, 254720.30it/s]\u001b[A\n",
            " 68% 1122304/1648877 [00:04<00:02, 250342.77it/s]\u001b[A\n",
            " 70% 1155072/1648877 [00:04<00:01, 255048.33it/s]\u001b[A\n",
            " 72% 1187840/1648877 [00:04<00:01, 255626.85it/s]\u001b[A\n",
            " 74% 1220608/1648877 [00:04<00:01, 253601.02it/s]\u001b[A\n",
            " 76% 1253376/1648877 [00:05<00:01, 255519.65it/s]\u001b[A\n",
            " 78% 1286144/1648877 [00:05<00:01, 254980.26it/s]\u001b[A\n",
            " 80% 1318912/1648877 [00:05<00:01, 247219.92it/s]\u001b[A\n",
            " 82% 1351680/1648877 [00:05<00:01, 256036.34it/s]\u001b[A\n",
            " 84% 1384448/1648877 [00:05<00:01, 254846.04it/s]\u001b[A\n",
            " 86% 1417216/1648877 [00:05<00:00, 252168.18it/s]\u001b[A\n",
            " 88% 1449984/1648877 [00:05<00:00, 255896.69it/s]\u001b[A\n",
            " 90% 1482752/1648877 [00:06<00:00, 255123.70it/s]\u001b[A\n",
            " 92% 1515520/1648877 [00:06<00:00, 255927.23it/s]\u001b[A\n",
            " 94% 1548288/1648877 [00:06<00:00, 246159.73it/s]\u001b[A\n",
            " 96% 1581056/1648877 [00:06<00:00, 197144.34it/s]\u001b[A\n",
            " 97% 1605632/1648877 [00:06<00:00, 189167.74it/s]\u001b[A\n",
            " 99% 1630208/1648877 [00:06<00:00, 182691.15it/s]\u001b[A\n",
            "1654784it [00:06, 173373.37it/s]                 \u001b[AExtracting /content/fsdl-text-recognizer-2021-labs/data/downloaded/MNIST/raw/t10k-images-idx3-ubyte.gz to /content/fsdl-text-recognizer-2021-labs/data/downloaded/MNIST/raw\n",
            "Downloading http://yann.lecun.com/exdb/mnist/t10k-labels-idx1-ubyte.gz to /content/fsdl-text-recognizer-2021-labs/data/downloaded/MNIST/raw/t10k-labels-idx1-ubyte.gz\n",
            "\n",
            "\n",
            "0it [00:00, ?it/s]\u001b[A\u001b[A\n",
            "\n",
            "8192it [00:00, 35503.74it/s]\n",
            "Extracting /content/fsdl-text-recognizer-2021-labs/data/downloaded/MNIST/raw/t10k-labels-idx1-ubyte.gz to /content/fsdl-text-recognizer-2021-labs/data/downloaded/MNIST/raw\n",
            "Processing...\n",
            "/usr/local/lib/python3.7/dist-packages/torchvision/datasets/mnist.py:480: UserWarning: The given NumPy array is not writeable, and PyTorch does not support non-writeable tensors. This means you can write to the underlying (supposedly non-writeable) NumPy array using the tensor. You may want to copy the array to protect its data or make it writeable before converting it to a tensor. This type of warning will be suppressed for the rest of this program. (Triggered internally at  /pytorch/torch/csrc/utils/tensor_numpy.cpp:141.)\n",
            "  return torch.from_numpy(parsed.astype(m[2], copy=False)).view(*s)\n",
            "Done!\n",
            "2021-05-31 21:43:48.770742: I tensorflow/stream_executor/platform/default/dso_loader.cc:53] Successfully opened dynamic library libcudart.so.11.0\n",
            "\n",
            "  | Name          | Type     | Params\n",
            "-------------------------------------------\n",
            "0 | model         | MLP      | 936 K \n",
            "1 | model.dropout | Dropout  | 0     \n",
            "2 | model.fc1     | Linear   | 803 K \n",
            "3 | model.fc2     | Linear   | 131 K \n",
            "4 | model.fc3     | Linear   | 1.3 K \n",
            "5 | train_acc     | Accuracy | 0     \n",
            "6 | val_acc       | Accuracy | 0     \n",
            "7 | test_acc      | Accuracy | 0     \n",
            "-------------------------------------------\n",
            "936 K     Trainable params\n",
            "0         Non-trainable params\n",
            "936 K     Total params\n",
            "Validation sanity check:  50% 1/2 [00:04<00:04,  4.18s/it]\n",
            "Epoch 0:  91% 430/470 [00:10<00:00, 42.10it/s, loss=0.21, v_num=0, val_loss=2.33, val_acc=0.0664] \n",
            "Validating: 0it [00:00, ?it/s]\u001b[A\n",
            "Epoch 0:  93% 436/470 [00:10<00:00, 42.24it/s, loss=0.21, v_num=0, val_loss=2.33, val_acc=0.0664]\n",
            "Epoch 0:  94% 443/470 [00:10<00:00, 42.31it/s, loss=0.21, v_num=0, val_loss=2.33, val_acc=0.0664]\n",
            "Epoch 0:  96% 450/470 [00:10<00:00, 42.43it/s, loss=0.21, v_num=0, val_loss=2.33, val_acc=0.0664]\n",
            "Validating:  52% 21/40 [00:00<00:00, 48.53it/s]\u001b[A\n",
            "Epoch 0:  97% 457/470 [00:10<00:00, 42.50it/s, loss=0.21, v_num=0, val_loss=2.33, val_acc=0.0664]\n",
            "Epoch 0:  99% 464/470 [00:10<00:00, 42.59it/s, loss=0.21, v_num=0, val_loss=2.33, val_acc=0.0664]\n",
            "Epoch 0: 100% 470/470 [00:11<00:00, 42.45it/s, loss=0.21, v_num=0, val_loss=0.156, val_acc=0.955]\n",
            "Epoch 1:  91% 430/470 [00:10<00:00, 42.37it/s, loss=0.165, v_num=0, val_loss=0.156, val_acc=0.955]\n",
            "Epoch 1:  92% 434/470 [00:10<00:00, 42.51it/s, loss=0.165, v_num=0, val_loss=0.156, val_acc=0.955]\n",
            "Validating:  12% 5/40 [00:00<00:00, 48.22it/s]\u001b[A\n",
            "Epoch 1:  94% 441/470 [00:10<00:00, 42.59it/s, loss=0.165, v_num=0, val_loss=0.156, val_acc=0.955]\n",
            "Epoch 1:  95% 448/470 [00:10<00:00, 42.63it/s, loss=0.165, v_num=0, val_loss=0.156, val_acc=0.955]\n",
            "Epoch 1:  97% 455/470 [00:10<00:00, 42.73it/s, loss=0.165, v_num=0, val_loss=0.156, val_acc=0.955]\n",
            "Epoch 1:  98% 462/470 [00:10<00:00, 42.79it/s, loss=0.165, v_num=0, val_loss=0.156, val_acc=0.955]\n",
            "Validating:  80% 32/40 [00:00<00:00, 47.66it/s]\u001b[A\n",
            "Epoch 1: 100% 470/470 [00:11<00:00, 42.69it/s, loss=0.165, v_num=0, val_loss=0.112, val_acc=0.969]\n",
            "Epoch 2:  91% 430/470 [00:10<00:00, 41.89it/s, loss=0.128, v_num=0, val_loss=0.112, val_acc=0.969]\n",
            "Epoch 2:  92% 434/470 [00:10<00:00, 42.03it/s, loss=0.128, v_num=0, val_loss=0.112, val_acc=0.969]\n",
            "Validating:  12% 5/40 [00:00<00:00, 49.81it/s]\u001b[A\n",
            "Epoch 2:  94% 441/470 [00:10<00:00, 42.11it/s, loss=0.128, v_num=0, val_loss=0.112, val_acc=0.969]\n",
            "Epoch 2:  95% 448/470 [00:10<00:00, 42.21it/s, loss=0.128, v_num=0, val_loss=0.112, val_acc=0.969]\n",
            "Epoch 2:  97% 455/470 [00:10<00:00, 42.28it/s, loss=0.128, v_num=0, val_loss=0.112, val_acc=0.969]\n",
            "Validating:  62% 25/40 [00:00<00:00, 48.77it/s]\u001b[A\n",
            "Epoch 2:  98% 462/470 [00:10<00:00, 42.37it/s, loss=0.128, v_num=0, val_loss=0.112, val_acc=0.969]\n",
            "Epoch 2: 100% 470/470 [00:11<00:00, 42.32it/s, loss=0.128, v_num=0, val_loss=0.11, val_acc=0.969] \n",
            "Epoch 3:  91% 430/470 [00:10<00:00, 42.35it/s, loss=0.143, v_num=0, val_loss=0.11, val_acc=0.969]\n",
            "Epoch 3:  92% 434/470 [00:10<00:00, 42.49it/s, loss=0.143, v_num=0, val_loss=0.11, val_acc=0.969]\n",
            "Validating:  12% 5/40 [00:00<00:00, 49.45it/s]\u001b[A\n",
            "Epoch 3:  94% 441/470 [00:10<00:00, 42.56it/s, loss=0.143, v_num=0, val_loss=0.11, val_acc=0.969]\n",
            "Epoch 3:  95% 448/470 [00:10<00:00, 42.63it/s, loss=0.143, v_num=0, val_loss=0.11, val_acc=0.969]\n",
            "Epoch 3:  97% 455/470 [00:10<00:00, 42.70it/s, loss=0.143, v_num=0, val_loss=0.11, val_acc=0.969]\n",
            "Validating:  62% 25/40 [00:00<00:00, 48.11it/s]\u001b[A\n",
            "Epoch 3:  98% 462/470 [00:10<00:00, 42.78it/s, loss=0.143, v_num=0, val_loss=0.11, val_acc=0.969]\n",
            "Epoch 3: 100% 470/470 [00:11<00:00, 42.65it/s, loss=0.143, v_num=0, val_loss=0.0905, val_acc=0.975]\n",
            "Epoch 4:  91% 430/470 [00:10<00:00, 41.47it/s, loss=0.12, v_num=0, val_loss=0.0905, val_acc=0.975] \n",
            "Epoch 4:  92% 434/470 [00:10<00:00, 41.61it/s, loss=0.12, v_num=0, val_loss=0.0905, val_acc=0.975]\n",
            "Epoch 4:  94% 441/470 [00:10<00:00, 41.73it/s, loss=0.12, v_num=0, val_loss=0.0905, val_acc=0.975]\n",
            "Validating:  30% 12/40 [00:00<00:00, 50.71it/s]\u001b[A\n",
            "Epoch 4:  95% 448/470 [00:10<00:00, 41.84it/s, loss=0.12, v_num=0, val_loss=0.0905, val_acc=0.975]\n",
            "Epoch 4:  97% 455/470 [00:10<00:00, 41.94it/s, loss=0.12, v_num=0, val_loss=0.0905, val_acc=0.975]\n",
            "Epoch 4:  98% 462/470 [00:10<00:00, 42.02it/s, loss=0.12, v_num=0, val_loss=0.0905, val_acc=0.975]\n",
            "Validating:  82% 33/40 [00:00<00:00, 49.03it/s]\u001b[A\n",
            "Epoch 4: 100% 470/470 [00:11<00:00, 41.96it/s, loss=0.12, v_num=0, val_loss=0.0875, val_acc=0.974]\n",
            "Epoch 4: 100% 470/470 [00:11<00:00, 41.84it/s, loss=0.12, v_num=0, val_loss=0.0875, val_acc=0.974]\n",
            "Testing: 100% 79/79 [00:01<00:00, 48.59it/s]\n",
            "--------------------------------------------------------------------------------\n",
            "DATALOADER:0 TEST RESULTS\n",
            "{'test_acc': tensor(0.9779, device='cuda:0')}\n",
            "--------------------------------------------------------------------------------\n",
            "1654784it [01:13, 22371.28it/s] \n",
            "9920512it [02:29, 66321.60it/s] \n"
          ],
          "name": "stdout"
        }
      ]
    }
  ]
}